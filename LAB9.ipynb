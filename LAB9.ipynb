{
  "nbformat": 4,
  "nbformat_minor": 0,
  "metadata": {
    "colab": {
      "name": "LAB9.ipynb",
      "provenance": [],
      "collapsed_sections": []
    },
    "kernelspec": {
      "name": "python3",
      "display_name": "Python 3"
    }
  },
  "cells": [
    {
      "cell_type": "code",
      "metadata": {
        "colab": {
          "base_uri": "https://localhost:8080/"
        },
        "id": "j602Y1l4NXCV",
        "outputId": "479e4eb3-4613-44e8-d769-8d5ce9d5e692"
      },
      "source": [
        "#1. Write a recursive function to find factorial of a number.\n",
        " \n",
        "def fact(n):\n",
        "  if n==1 or n==0:\n",
        "    return 1\n",
        "  else:\n",
        "    return n*fact(n-1)\n",
        " \n",
        "a=int(input(\"Enter a number:\"))\n",
        "print(a,\"! =\",fact(a))"
      ],
      "execution_count": null,
      "outputs": [
        {
          "output_type": "stream",
          "text": [
            "Enter a number:4\n",
            "4 ! = 24\n"
          ],
          "name": "stdout"
        }
      ]
    },
    {
      "cell_type": "code",
      "metadata": {
        "colab": {
          "base_uri": "https://localhost:8080/"
        },
        "id": "1jnYgNR2OsOJ",
        "outputId": "365cc60c-6b33-4812-c7d6-0e9b333c2893"
      },
      "source": [
        "#2. Write a recursive function to find n th term in the Fibonacci series.\r\n",
        "\r\n",
        "def fib(n):\r\n",
        "  if n==1:\r\n",
        "    return 0\r\n",
        "  elif n==2:\r\n",
        "    return 1\r\n",
        "  else:\r\n",
        "    return fib(n-1)+fib(n-2)\r\n",
        "    \r\n",
        "a=int(input(\"Enter a number:\"))\r\n",
        "print(a,\"th fibonacci number is:\",fib(a))"
      ],
      "execution_count": null,
      "outputs": [
        {
          "output_type": "stream",
          "text": [
            "Enter a number:7\n",
            "7 th fibonacci number is: 8\n"
          ],
          "name": "stdout"
        }
      ]
    },
    {
      "cell_type": "code",
      "metadata": {
        "colab": {
          "base_uri": "https://localhost:8080/"
        },
        "id": "A1fNtELnQgmw",
        "outputId": "0c622686-5948-49d5-b040-4116cb7a65a4"
      },
      "source": [
        "#3. Write a recursive function to find the sum of digits of a given number.\r\n",
        "\r\n",
        "def sum(n):\r\n",
        "  if n<10:\r\n",
        "    return n\r\n",
        "  else:\r\n",
        "    return n%10 + sum((n//10))\r\n",
        "\r\n",
        "a=int(input(\"Enter a number:\"))\r\n",
        "print(\"Sum of digits of\",a,\"is\",sum(a))"
      ],
      "execution_count": null,
      "outputs": [
        {
          "output_type": "stream",
          "text": [
            "Enter a number:345\n",
            "Sum of digits of 345 is 12\n"
          ],
          "name": "stdout"
        }
      ]
    },
    {
      "cell_type": "code",
      "metadata": {
        "colab": {
          "base_uri": "https://localhost:8080/"
        },
        "id": "2gglmGZuS0YZ",
        "outputId": "09d4ed6b-d629-4c97-cad1-273116ae3687"
      },
      "source": [
        "#4. Write a recursive function to find sum of first N whole numbers.\r\n",
        "\r\n",
        "def sumW(n):\r\n",
        "  if n==1:\r\n",
        "    return 1\r\n",
        "  else:\r\n",
        "    return n+sumW(n-1)\r\n",
        "\r\n",
        "a=int(input(\"Enter a number:\"))\r\n",
        "print(\"Sum of first\",a,\"whole numbers is\",sumW(a))\r\n"
      ],
      "execution_count": null,
      "outputs": [
        {
          "output_type": "stream",
          "text": [
            "Enter a number:10\n",
            "Sum of first 10 whole numbers is 55\n"
          ],
          "name": "stdout"
        }
      ]
    },
    {
      "cell_type": "code",
      "metadata": {
        "colab": {
          "base_uri": "https://localhost:8080/"
        },
        "id": "3E29HaLxT5gN",
        "outputId": "463554d8-250a-483f-bc3f-624523db4279"
      },
      "source": [
        "#5. Write a recursive function to reverse a string.\r\n",
        "\r\n",
        "def rever(x):\r\n",
        "  if len(x)==1:\r\n",
        "    return x\r\n",
        "  else:\r\n",
        "    return x[-1]+rever(x[:-1])\r\n",
        "\r\n",
        "a=input(\"Enter a string:\")\r\n",
        "print(\"Reverse of\",a,\"is\",rever(a))\r\n"
      ],
      "execution_count": null,
      "outputs": [
        {
          "output_type": "stream",
          "text": [
            "Enter a string:Thank u\n",
            "Reverse of Thank u is u knahT\n"
          ],
          "name": "stdout"
        }
      ]
    },
    {
      "cell_type": "code",
      "metadata": {
        "colab": {
          "base_uri": "https://localhost:8080/"
        },
        "id": "2FtHruDGWUQM",
        "outputId": "bcc25386-d188-4ec8-f0ef-c19751bcd3be"
      },
      "source": [
        "#6. Write a recursive function to convert a decimal number to binary.\r\n",
        "\r\n",
        "def dectobin(n):\r\n",
        "  if n==0:\r\n",
        "    return '0'\r\n",
        "  else:\r\n",
        "    return str(n%2) + str(dectobin(n//2))\r\n",
        "\r\n",
        "a=int(input(\"Enter a decimal number:\"))\r\n",
        "print(\"(\",a,\")10 =\",\"(\",reverse(dectobin(a)),\")2\")"
      ],
      "execution_count": null,
      "outputs": [
        {
          "output_type": "stream",
          "text": [
            "Enter a decimal number:57\n",
            "( 57 )10 = ( 0111001 )2\n"
          ],
          "name": "stdout"
        }
      ]
    },
    {
      "cell_type": "code",
      "metadata": {
        "colab": {
          "base_uri": "https://localhost:8080/"
        },
        "id": "b-Kv-foqhnPT",
        "outputId": "f9c7768c-216e-47a3-e784-71ab591a967d"
      },
      "source": [
        "#6. Write a recursive function to convert a decimal number to binary.\r\n",
        "\r\n",
        "def dectobin(n):\r\n",
        "  if n==0:\r\n",
        "    return '0'\r\n",
        "  else:\r\n",
        "    return str(n%2) + str(dectobin(n//2))\r\n",
        "\r\n",
        "a=int(input(\"Enter a decimal number:\"))\r\n",
        "b=''.join(reversed(dectobin(a)))\r\n",
        "print(\"(\",a,\")10 =\",\"(\",b,\")2\")"
      ],
      "execution_count": null,
      "outputs": [
        {
          "output_type": "stream",
          "text": [
            "Enter a decimal number:57\n",
            "( 57 )10 = ( 0111001 )2\n"
          ],
          "name": "stdout"
        }
      ]
    }
  ]
}