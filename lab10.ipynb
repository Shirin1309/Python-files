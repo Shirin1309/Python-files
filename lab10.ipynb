{
  "nbformat": 4,
  "nbformat_minor": 0,
  "metadata": {
    "colab": {
      "name": "lab10.ipynb",
      "provenance": [],
      "collapsed_sections": [],
      "authorship_tag": "ABX9TyO3drDbYeJFZ+w50sFiqpNW",
      "include_colab_link": true
    },
    "kernelspec": {
      "name": "python3",
      "display_name": "Python 3"
    }
  },
  "cells": [
    {
      "cell_type": "markdown",
      "metadata": {
        "id": "view-in-github",
        "colab_type": "text"
      },
      "source": [
        "<a href=\"https://colab.research.google.com/github/Shirin1309/Python-files/blob/main/lab10.ipynb\" target=\"_parent\"><img src=\"https://colab.research.google.com/assets/colab-badge.svg\" alt=\"Open In Colab\"/></a>"
      ]
    },
    {
      "cell_type": "code",
      "metadata": {
        "colab": {
          "base_uri": "https://localhost:8080/"
        },
        "id": "cLNSe6UoF2XU",
        "outputId": "3ceb283b-8e82-403c-b69c-2c5982d9c44c"
      },
      "source": [
        "#1. Write a program to demonstrate ZeroDivisionError and ValueError\n",
        " \n",
        "try:\n",
        "  a=int(input(\"Enter a number:\"))\n",
        "  b=4\n",
        "  print(\"%d divided by %d is\",b/a)\n",
        "except ValueError as ve:\n",
        "  print(\"value error:\",ve)\n",
        "except ZeroDivisionError as zde:\n",
        "  print(\"Denominator is zero error:\",zde)"
      ],
      "execution_count": null,
      "outputs": [
        {
          "output_type": "stream",
          "text": [
            "Enter a number:W\n",
            "value error: invalid literal for int() with base 10: 'W'\n"
          ],
          "name": "stdout"
        }
      ]
    },
    {
      "cell_type": "code",
      "metadata": {
        "colab": {
          "base_uri": "https://localhost:8080/"
        },
        "id": "K-GMDsAvHN0l",
        "outputId": "f0fca4b7-4b8d-4a26-ca83-64cde1b28985"
      },
      "source": [
        "#2. Write a program that accepts an integer from user and raises ValueError with argument ‘Abnormal Condition’, if the reading is\n",
        "#not within 90 – 120.\n",
        " \n",
        "try:\n",
        "  a=int(input(\"Enter a number:\"))\n",
        "  if a<90 or a>120:\n",
        "    raise ValueError(\"Abnormal Condition\")\n",
        "  print(a)\n",
        "except ValueError as ve:\n",
        "  print(ve)\n",
        "finally:\n",
        "  print(\"it happens\")"
      ],
      "execution_count": null,
      "outputs": [
        {
          "output_type": "stream",
          "text": [
            "Enter a number:100\n",
            "100\n",
            "it happens\n"
          ],
          "name": "stdout"
        }
      ]
    },
    {
      "cell_type": "code",
      "metadata": {
        "colab": {
          "base_uri": "https://localhost:8080/"
        },
        "id": "bWfWf7g5I1GC",
        "outputId": "5033d44a-a80e-447c-96a3-f7f982d2c69e"
      },
      "source": [
        "#3. Write a custom exception which is raised if user entered login credentials remain invalid.\n",
        " \n",
        "class LogEx(Exception):pass\n",
        "try:\n",
        "  a=int(input(\"Enter pin number:\"))\n",
        "  b=input(\"Enter User name:\")\n",
        "  if b!=\"shirin\":\n",
        "    raise LogEx(\"invalid username\")\n",
        "except ValueError as ve:\n",
        "  print(\"Only integers:////invalid!!\",ve)\n",
        "except LogEx as le:\n",
        "  print(le)\n",
        "else:\n",
        "  print(\"Successfully login!!!!!!!!!!\")"
      ],
      "execution_count": null,
      "outputs": [
        {
          "output_type": "stream",
          "text": [
            "Enter pin number:12.5\n",
            "Only integers:////invalid!! invalid literal for int() with base 10: '12.5'\n"
          ],
          "name": "stdout"
        }
      ]
    },
    {
      "cell_type": "code",
      "metadata": {
        "colab": {
          "base_uri": "https://localhost:8080/"
        },
        "id": "B6rsuBFOKniW",
        "outputId": "cad043c7-353c-48f6-8142-6fc982be4668"
      },
      "source": [
        "#4. Write example program to demonstrate Chained exception, re-raised exception and AssertError (self-study) in Python.\r\n",
        "try:\r\n",
        "  x=int(input(\"Enter a number:\"))\r\n",
        "  y=int(input(\"Enter a number:\"))\r\n",
        "  assert y!=0 , \"invalid operation\"\r\n",
        "  if x<0 and y<0:\r\n",
        "    raise ValueError(\"Inappropriate option\")\r\n",
        "  print(x/y)\r\n",
        "except AssertionError as ae:\r\n",
        "  print(ae)\r\n",
        "except ValueError as ve:\r\n",
        "  print(\"Reraised Exception:\",ve)\r\n"
      ],
      "execution_count": null,
      "outputs": [
        {
          "output_type": "stream",
          "text": [
            "Enter a number:-1\n",
            "Enter a number:-3\n",
            "Reraised Exception: Inappropriate option\n"
          ],
          "name": "stdout"
        }
      ]
    },
    {
      "cell_type": "code",
      "metadata": {
        "colab": {
          "base_uri": "https://localhost:8080/"
        },
        "id": "yBYPN_8RJb5j",
        "outputId": "c745c7ab-23c0-42d7-f5da-d0e74a49f933"
      },
      "source": [
        "def f1():\r\n",
        "  try:\r\n",
        "    print(\"inner bnlock\")\r\n",
        "    n = int(input('Enter an integer: '))\r\n",
        "    m=int(input('Enter an integer: '))\r\n",
        "    print(n/m)\r\n",
        "  except ZeroDivisionError as ze:\r\n",
        "    print(ze)\r\n",
        "  except ValueError as ve:\r\n",
        "    print(\"value Error:\",ve)\r\n",
        "    \r\n",
        "\r\n",
        "try:\r\n",
        "  f1()\r\n",
        "  print(\"Outer block\")\r\n",
        "except EOFError as ee:\r\n",
        "  print(ee)\r\n",
        "\r\n",
        "\r\n"
      ],
      "execution_count": null,
      "outputs": [
        {
          "output_type": "stream",
          "text": [
            "inner bnlock\n",
            "Enter an integer: 3\n",
            "Enter an integer: 0\n",
            "division by zero\n",
            "Outer block\n"
          ],
          "name": "stdout"
        }
      ]
    }
  ]
}