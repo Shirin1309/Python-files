{
  "nbformat": 4,
  "nbformat_minor": 0,
  "metadata": {
    "colab": {
      "name": "sample12.ipynb",
      "provenance": [],
      "collapsed_sections": [],
      "authorship_tag": "ABX9TyMIegWTCgxNKAxGaH/R1kic",
      "include_colab_link": true
    },
    "kernelspec": {
      "name": "python3",
      "display_name": "Python 3"
    }
  },
  "cells": [
    {
      "cell_type": "markdown",
      "metadata": {
        "id": "view-in-github",
        "colab_type": "text"
      },
      "source": [
        "<a href=\"https://colab.research.google.com/github/Shirin1309/Python-files/blob/main/sample12.ipynb\" target=\"_parent\"><img src=\"https://colab.research.google.com/assets/colab-badge.svg\" alt=\"Open In Colab\"/></a>"
      ]
    },
    {
      "cell_type": "code",
      "metadata": {
        "colab": {
          "base_uri": "https://localhost:8080/"
        },
        "id": "eYhwBTfn3Q7a",
        "outputId": "b6123b45-180f-45bb-d4a4-c5fcab9ac264"
      },
      "source": [
        "# (a) To get current time\r\n",
        "import datetime\r\n",
        "print(\"current time:\",datetime.datetime.now().time())\r\n"
      ],
      "execution_count": null,
      "outputs": [
        {
          "output_type": "stream",
          "text": [
            "current time: 06:09:50.591547\n"
          ],
          "name": "stdout"
        }
      ]
    },
    {
      "cell_type": "code",
      "metadata": {
        "id": "PD5vyTrv3-Lf",
        "colab": {
          "base_uri": "https://localhost:8080/"
        },
        "outputId": "e0cd164d-b93f-43b3-e394-8ba5c8480e9b"
      },
      "source": [
        "# (b) To subtract 5 days from current date\r\n",
        "from datetime import date,timedelta\r\n",
        "current=date.today()\r\n",
        "print(\"current date:\",current)\r\n",
        "print(\"5 days before:\",current-timedelta(5))"
      ],
      "execution_count": null,
      "outputs": [
        {
          "output_type": "stream",
          "text": [
            "current date: 2021-02-06\n",
            "5 days before: 2021-02-01\n"
          ],
          "name": "stdout"
        }
      ]
    },
    {
      "cell_type": "code",
      "metadata": {
        "colab": {
          "base_uri": "https://localhost:8080/"
        },
        "id": "GgrAVRZJ7Xia",
        "outputId": "22b9ce28-dcba-4d07-87a8-553a1e11afa8"
      },
      "source": [
        "# (c) To print yesterday, today and tomorrow\r\n",
        "from datetime import date,timedelta\r\n",
        "current=date.today()\r\n",
        "print(\"Yesterday:\",current-timedelta(1))\r\n",
        "print(\"Today:\",current)\r\n",
        "print(\"Tommorrow:\",current+timedelta(1))"
      ],
      "execution_count": null,
      "outputs": [
        {
          "output_type": "stream",
          "text": [
            "Yesterday: 2021-02-05\n",
            "Today: 2021-02-06\n",
            "Tommorrow: 2021-02-07\n"
          ],
          "name": "stdout"
        }
      ]
    },
    {
      "cell_type": "code",
      "metadata": {
        "colab": {
          "base_uri": "https://localhost:8080/"
        },
        "id": "npWTsCFQ7iZv",
        "outputId": "1fbb8191-f3b5-4f5e-e9a7-c0957662c8a8"
      },
      "source": [
        "# (d) To print next 5 days from today\r\n",
        "from datetime import datetime,timedelta\r\n",
        "current=datetime.today()\r\n",
        "print(\"Next 5 days from today:\",current.strftime(\"%A\"))\r\n",
        "for i in range(0,5):\r\n",
        "  day=current+timedelta(i)\r\n",
        "  print(day.strftime(\"%A\"))\r\n"
      ],
      "execution_count": 4,
      "outputs": [
        {
          "output_type": "stream",
          "text": [
            "Next 5 days from today: Saturday\n",
            "Saturday\n",
            "Sunday\n",
            "Monday\n",
            "Tuesday\n",
            "Wednesday\n"
          ],
          "name": "stdout"
        }
      ]
    },
    {
      "cell_type": "code",
      "metadata": {
        "id": "mLNWcCrA7m1L",
        "colab": {
          "base_uri": "https://localhost:8080/"
        },
        "outputId": "2c3a7871-0bd9-45a4-c9d4-685356f0c9a4"
      },
      "source": [
        "# (e) To add 5 seconds to current time\r\n",
        "from datetime import datetime,timedelta\r\n",
        "try:\r\n",
        "  current=datetime.now()\r\n",
        "  next=current+timedelta(0,5)\r\n",
        "  print(\"current time:\",current.time())\r\n",
        "  print(\"After adding 5 seconds:\",next.time())\r\n",
        "except TypeError as te:\r\n",
        "  print(te)"
      ],
      "execution_count": 12,
      "outputs": [
        {
          "output_type": "stream",
          "text": [
            "current time: 09:31:57.887381\n",
            "After adding 5 seconds: 09:32:02.887381\n"
          ],
          "name": "stdout"
        }
      ]
    }
  ]
}